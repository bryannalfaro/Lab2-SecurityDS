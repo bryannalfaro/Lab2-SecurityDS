{
 "cells": [
  {
   "cell_type": "markdown",
   "metadata": {},
   "source": [
    "Integrantes  \n",
    "Bryann Alfaro  \n",
    "Raul Jimenez  \n",
    "Donaldo Garcia"
   ]
  },
  {
   "cell_type": "code",
   "execution_count": 1,
   "metadata": {},
   "outputs": [],
   "source": [
    "#Import \n",
    "import numpy as np\n",
    "import matplotlib.pyplot as plt\n",
    "import pandas as pd\n",
    "from sklearn.naive_bayes import MultinomialNB\n",
    "from sklearn.metrics import accuracy_score\n",
    "from sklearn.metrics import confusion_matrix\n",
    "from sklearn.metrics import classification_report\n",
    "from sklearn.model_selection import train_test_split\n",
    "from sklearn.feature_extraction.text import TfidfVectorizer\n",
    "from sklearn.feature_extraction.text import CountVectorizer\n"
   ]
  },
  {
   "cell_type": "markdown",
   "metadata": {},
   "source": [
    "# Parte 1 – Ingeniería de características"
   ]
  },
  {
   "cell_type": "markdown",
   "metadata": {},
   "source": [
    "### Exploracion de caracteristicas"
   ]
  },
  {
   "cell_type": "code",
   "execution_count": 2,
   "metadata": {},
   "outputs": [
    {
     "data": {
      "text/html": [
       "<div>\n",
       "<style scoped>\n",
       "    .dataframe tbody tr th:only-of-type {\n",
       "        vertical-align: middle;\n",
       "    }\n",
       "\n",
       "    .dataframe tbody tr th {\n",
       "        vertical-align: top;\n",
       "    }\n",
       "\n",
       "    .dataframe thead th {\n",
       "        text-align: right;\n",
       "    }\n",
       "</style>\n",
       "<table border=\"1\" class=\"dataframe\">\n",
       "  <thead>\n",
       "    <tr style=\"text-align: right;\">\n",
       "      <th></th>\n",
       "      <th>Unnamed: 0</th>\n",
       "      <th>Body</th>\n",
       "      <th>Label</th>\n",
       "    </tr>\n",
       "  </thead>\n",
       "  <tbody>\n",
       "    <tr>\n",
       "      <th>0</th>\n",
       "      <td>0</td>\n",
       "      <td>\\r\\nSave up to 70% on Life Insurance.\\r\\nWhy S...</td>\n",
       "      <td>1</td>\n",
       "    </tr>\n",
       "    <tr>\n",
       "      <th>1</th>\n",
       "      <td>1</td>\n",
       "      <td>1) Fight The Risk of Cancer!\\r\\nhttp://www.adc...</td>\n",
       "      <td>1</td>\n",
       "    </tr>\n",
       "    <tr>\n",
       "      <th>2</th>\n",
       "      <td>2</td>\n",
       "      <td>1) Fight The Risk of Cancer!\\r\\nhttp://www.adc...</td>\n",
       "      <td>1</td>\n",
       "    </tr>\n",
       "    <tr>\n",
       "      <th>3</th>\n",
       "      <td>3</td>\n",
       "      <td>##############################################...</td>\n",
       "      <td>1</td>\n",
       "    </tr>\n",
       "    <tr>\n",
       "      <th>4</th>\n",
       "      <td>4</td>\n",
       "      <td>I thought you might like these:\\r\\n1) Slim Dow...</td>\n",
       "      <td>1</td>\n",
       "    </tr>\n",
       "  </tbody>\n",
       "</table>\n",
       "</div>"
      ],
      "text/plain": [
       "   Unnamed: 0                                               Body  Label\n",
       "0           0  \\r\\nSave up to 70% on Life Insurance.\\r\\nWhy S...      1\n",
       "1           1  1) Fight The Risk of Cancer!\\r\\nhttp://www.adc...      1\n",
       "2           2  1) Fight The Risk of Cancer!\\r\\nhttp://www.adc...      1\n",
       "3           3  ##############################################...      1\n",
       "4           4  I thought you might like these:\\r\\n1) Slim Dow...      1"
      ]
     },
     "execution_count": 2,
     "metadata": {},
     "output_type": "execute_result"
    }
   ],
   "source": [
    "#Read the csv into a df\n",
    "df = pd.read_csv('data/completeSpamAssassin.csv')\n",
    "df2 = pd.read_csv('data/enronSpamSubset.csv')\n",
    "#Print the first 5 rows of the df\n",
    "df.head()"
   ]
  },
  {
   "cell_type": "code",
   "execution_count": 3,
   "metadata": {},
   "outputs": [
    {
     "data": {
      "text/html": [
       "<div>\n",
       "<style scoped>\n",
       "    .dataframe tbody tr th:only-of-type {\n",
       "        vertical-align: middle;\n",
       "    }\n",
       "\n",
       "    .dataframe tbody tr th {\n",
       "        vertical-align: top;\n",
       "    }\n",
       "\n",
       "    .dataframe thead th {\n",
       "        text-align: right;\n",
       "    }\n",
       "</style>\n",
       "<table border=\"1\" class=\"dataframe\">\n",
       "  <thead>\n",
       "    <tr style=\"text-align: right;\">\n",
       "      <th></th>\n",
       "      <th>Unnamed: 0.1</th>\n",
       "      <th>Unnamed: 0</th>\n",
       "      <th>Body</th>\n",
       "      <th>Label</th>\n",
       "    </tr>\n",
       "  </thead>\n",
       "  <tbody>\n",
       "    <tr>\n",
       "      <th>0</th>\n",
       "      <td>2469</td>\n",
       "      <td>2469</td>\n",
       "      <td>Subject: stock promo mover : cwtd\\r\\n * * * ur...</td>\n",
       "      <td>1</td>\n",
       "    </tr>\n",
       "    <tr>\n",
       "      <th>1</th>\n",
       "      <td>5063</td>\n",
       "      <td>5063</td>\n",
       "      <td>Subject: are you listed in major search engine...</td>\n",
       "      <td>1</td>\n",
       "    </tr>\n",
       "    <tr>\n",
       "      <th>2</th>\n",
       "      <td>12564</td>\n",
       "      <td>12564</td>\n",
       "      <td>Subject: important information thu , 30 jun 20...</td>\n",
       "      <td>1</td>\n",
       "    </tr>\n",
       "    <tr>\n",
       "      <th>3</th>\n",
       "      <td>2796</td>\n",
       "      <td>2796</td>\n",
       "      <td>Subject: = ? utf - 8 ? q ? bask your life with...</td>\n",
       "      <td>1</td>\n",
       "    </tr>\n",
       "    <tr>\n",
       "      <th>4</th>\n",
       "      <td>1468</td>\n",
       "      <td>1468</td>\n",
       "      <td>Subject: \" bidstogo \" is places to go , things...</td>\n",
       "      <td>1</td>\n",
       "    </tr>\n",
       "  </tbody>\n",
       "</table>\n",
       "</div>"
      ],
      "text/plain": [
       "   Unnamed: 0.1  Unnamed: 0  \\\n",
       "0          2469        2469   \n",
       "1          5063        5063   \n",
       "2         12564       12564   \n",
       "3          2796        2796   \n",
       "4          1468        1468   \n",
       "\n",
       "                                                Body  Label  \n",
       "0  Subject: stock promo mover : cwtd\\r\\n * * * ur...      1  \n",
       "1  Subject: are you listed in major search engine...      1  \n",
       "2  Subject: important information thu , 30 jun 20...      1  \n",
       "3  Subject: = ? utf - 8 ? q ? bask your life with...      1  \n",
       "4  Subject: \" bidstogo \" is places to go , things...      1  "
      ]
     },
     "execution_count": 3,
     "metadata": {},
     "output_type": "execute_result"
    }
   ],
   "source": [
    "df2.head()"
   ]
  },
  {
   "cell_type": "code",
   "execution_count": 4,
   "metadata": {},
   "outputs": [],
   "source": [
    "#Eliminar las columnas que no se van a utilizar Unnamed en ambos\n",
    "df = df.drop(['Unnamed: 0'], axis=1)\n",
    "df2 = df2.drop(['Unnamed: 0'], axis=1)\n",
    "df2 = df2.drop(['Unnamed: 0.1'], axis=1)"
   ]
  },
  {
   "cell_type": "code",
   "execution_count": 5,
   "metadata": {},
   "outputs": [
    {
     "name": "stderr",
     "output_type": "stream",
     "text": [
      "C:\\Users\\Bryann\\AppData\\Local\\Temp\\ipykernel_30152\\3655632441.py:2: FutureWarning: The frame.append method is deprecated and will be removed from pandas in a future version. Use pandas.concat instead.\n",
      "  df = df.append(df2, ignore_index=True)\n"
     ]
    }
   ],
   "source": [
    "#Join the two dataframes\n",
    "df = df.append(df2, ignore_index=True)"
   ]
  },
  {
   "cell_type": "code",
   "execution_count": 6,
   "metadata": {},
   "outputs": [
    {
     "data": {
      "text/html": [
       "<div>\n",
       "<style scoped>\n",
       "    .dataframe tbody tr th:only-of-type {\n",
       "        vertical-align: middle;\n",
       "    }\n",
       "\n",
       "    .dataframe tbody tr th {\n",
       "        vertical-align: top;\n",
       "    }\n",
       "\n",
       "    .dataframe thead th {\n",
       "        text-align: right;\n",
       "    }\n",
       "</style>\n",
       "<table border=\"1\" class=\"dataframe\">\n",
       "  <thead>\n",
       "    <tr style=\"text-align: right;\">\n",
       "      <th></th>\n",
       "      <th>Body</th>\n",
       "      <th>Label</th>\n",
       "    </tr>\n",
       "  </thead>\n",
       "  <tbody>\n",
       "    <tr>\n",
       "      <th>0</th>\n",
       "      <td>\\r\\nSave up to 70% on Life Insurance.\\r\\nWhy S...</td>\n",
       "      <td>1</td>\n",
       "    </tr>\n",
       "    <tr>\n",
       "      <th>1</th>\n",
       "      <td>1) Fight The Risk of Cancer!\\r\\nhttp://www.adc...</td>\n",
       "      <td>1</td>\n",
       "    </tr>\n",
       "    <tr>\n",
       "      <th>2</th>\n",
       "      <td>1) Fight The Risk of Cancer!\\r\\nhttp://www.adc...</td>\n",
       "      <td>1</td>\n",
       "    </tr>\n",
       "    <tr>\n",
       "      <th>3</th>\n",
       "      <td>##############################################...</td>\n",
       "      <td>1</td>\n",
       "    </tr>\n",
       "    <tr>\n",
       "      <th>4</th>\n",
       "      <td>I thought you might like these:\\r\\n1) Slim Dow...</td>\n",
       "      <td>1</td>\n",
       "    </tr>\n",
       "  </tbody>\n",
       "</table>\n",
       "</div>"
      ],
      "text/plain": [
       "                                                Body  Label\n",
       "0  \\r\\nSave up to 70% on Life Insurance.\\r\\nWhy S...      1\n",
       "1  1) Fight The Risk of Cancer!\\r\\nhttp://www.adc...      1\n",
       "2  1) Fight The Risk of Cancer!\\r\\nhttp://www.adc...      1\n",
       "3  ##############################################...      1\n",
       "4  I thought you might like these:\\r\\n1) Slim Dow...      1"
      ]
     },
     "execution_count": 6,
     "metadata": {},
     "output_type": "execute_result"
    }
   ],
   "source": [
    "df.head()"
   ]
  },
  {
   "cell_type": "code",
   "execution_count": 7,
   "metadata": {},
   "outputs": [
    {
     "data": {
      "text/plain": [
       "(16046, 2)"
      ]
     },
     "execution_count": 7,
     "metadata": {},
     "output_type": "execute_result"
    }
   ],
   "source": [
    "df.shape"
   ]
  },
  {
   "cell_type": "code",
   "execution_count": 8,
   "metadata": {},
   "outputs": [
    {
     "data": {
      "text/html": [
       "<div>\n",
       "<style scoped>\n",
       "    .dataframe tbody tr th:only-of-type {\n",
       "        vertical-align: middle;\n",
       "    }\n",
       "\n",
       "    .dataframe tbody tr th {\n",
       "        vertical-align: top;\n",
       "    }\n",
       "\n",
       "    .dataframe thead th {\n",
       "        text-align: right;\n",
       "    }\n",
       "</style>\n",
       "<table border=\"1\" class=\"dataframe\">\n",
       "  <thead>\n",
       "    <tr style=\"text-align: right;\">\n",
       "      <th></th>\n",
       "      <th>body</th>\n",
       "      <th>label</th>\n",
       "    </tr>\n",
       "  </thead>\n",
       "  <tbody>\n",
       "    <tr>\n",
       "      <th>0</th>\n",
       "      <td>\\r\\nSave up to 70% on Life Insurance.\\r\\nWhy S...</td>\n",
       "      <td>1</td>\n",
       "    </tr>\n",
       "    <tr>\n",
       "      <th>1</th>\n",
       "      <td>1) Fight The Risk of Cancer!\\r\\nhttp://www.adc...</td>\n",
       "      <td>1</td>\n",
       "    </tr>\n",
       "    <tr>\n",
       "      <th>2</th>\n",
       "      <td>1) Fight The Risk of Cancer!\\r\\nhttp://www.adc...</td>\n",
       "      <td>1</td>\n",
       "    </tr>\n",
       "    <tr>\n",
       "      <th>3</th>\n",
       "      <td>##############################################...</td>\n",
       "      <td>1</td>\n",
       "    </tr>\n",
       "    <tr>\n",
       "      <th>4</th>\n",
       "      <td>I thought you might like these:\\r\\n1) Slim Dow...</td>\n",
       "      <td>1</td>\n",
       "    </tr>\n",
       "  </tbody>\n",
       "</table>\n",
       "</div>"
      ],
      "text/plain": [
       "                                                body  label\n",
       "0  \\r\\nSave up to 70% on Life Insurance.\\r\\nWhy S...      1\n",
       "1  1) Fight The Risk of Cancer!\\r\\nhttp://www.adc...      1\n",
       "2  1) Fight The Risk of Cancer!\\r\\nhttp://www.adc...      1\n",
       "3  ##############################################...      1\n",
       "4  I thought you might like these:\\r\\n1) Slim Dow...      1"
      ]
     },
     "execution_count": 8,
     "metadata": {},
     "output_type": "execute_result"
    }
   ],
   "source": [
    "#lowercase of column names\n",
    "df.columns = df.columns.str.lower()\n",
    "df.head()"
   ]
  },
  {
   "cell_type": "code",
   "execution_count": 9,
   "metadata": {},
   "outputs": [
    {
     "data": {
      "text/plain": [
       "(16045, 2)"
      ]
     },
     "execution_count": 9,
     "metadata": {},
     "output_type": "execute_result"
    }
   ],
   "source": [
    "#Eliminar na\n",
    "df = df.dropna()\n",
    "df.shape"
   ]
  },
  {
   "cell_type": "markdown",
   "metadata": {},
   "source": [
    "### Preprocesamiento "
   ]
  },
  {
   "cell_type": "code",
   "execution_count": 10,
   "metadata": {},
   "outputs": [
    {
     "name": "stderr",
     "output_type": "stream",
     "text": [
      "[nltk_data] Downloading package stopwords to\n",
      "[nltk_data]     C:\\Users\\Bryann\\AppData\\Roaming\\nltk_data...\n",
      "[nltk_data]   Package stopwords is already up-to-date!\n"
     ]
    },
    {
     "name": "stdout",
     "output_type": "stream",
     "text": [
      "                                                    body  label\n",
      "0      Save 70% Life Insurance. Why Spend More Than Y...      1\n",
      "1      1) Fight The Risk Cancer! http://www.adclick.w...      1\n",
      "2      1) Fight The Risk Cancer! http://www.adclick.w...      1\n",
      "3      ##############################################...      1\n",
      "4      I thought might like these: 1) Slim Down - Gua...      1\n",
      "...                                                  ...    ...\n",
      "16041  Subject: monday 22 nd oct louise , half hour f...      0\n",
      "16042  Subject: missing bloomberg deals stephanie - b...      0\n",
      "16043  Subject: eops salary survey questionnaire need...      0\n",
      "16044  Subject: q 3 comparison hi louise , comparison...      0\n",
      "16045  Subject: confidential folder safely pass infor...      0\n",
      "\n",
      "[16045 rows x 2 columns]\n"
     ]
    }
   ],
   "source": [
    "# Remove stop words\n",
    "import nltk\n",
    "nltk.download('stopwords')\n",
    "from nltk.corpus import stopwords\n",
    "stop_words = stopwords.words('english')\n",
    "\n",
    "# Exclude stopwords with Python's list comprehension and pandas.DataFrame.apply.\n",
    "df['body'] = df['body'].apply(lambda x: ' '.join([word for word in x.split() if word not in (stop_words)]))\n",
    "print(df)"
   ]
  },
  {
   "cell_type": "code",
   "execution_count": 11,
   "metadata": {},
   "outputs": [
    {
     "name": "stderr",
     "output_type": "stream",
     "text": [
      "C:\\Users\\Bryann\\AppData\\Local\\Temp\\ipykernel_30152\\1140702011.py:3: FutureWarning: The default value of regex will change from True to False in a future version.\n",
      "  df['body'] = df['body'].str.replace(f'[{string.punctuation}]', '')\n"
     ]
    },
    {
     "name": "stdout",
     "output_type": "stream",
     "text": [
      "                                                    body  label\n",
      "0      Save 70 Life Insurance Why Spend More Than You...      1\n",
      "1      1 Fight The Risk Cancer httpwwwadclickwspcfmo3...      1\n",
      "2      1 Fight The Risk Cancer httpwwwadclickwspcfmo3...      1\n",
      "3          Adult Club   Offers FREE Membership     IN...      1\n",
      "4      I thought might like these 1 Slim Down  Guaran...      1\n",
      "...                                                  ...    ...\n",
      "16041  Subject monday 22 nd oct louise  half hour fre...      0\n",
      "16042  Subject missing bloomberg deals stephanie  bel...      0\n",
      "16043  Subject eops salary survey questionnaire need ...      0\n",
      "16044  Subject q 3 comparison hi louise  comparison f...      0\n",
      "16045  Subject confidential folder safely pass inform...      0\n",
      "\n",
      "[16045 rows x 2 columns]\n"
     ]
    }
   ],
   "source": [
    "# Remove punctuation\n",
    "import string\n",
    "df['body'] = df['body'].str.replace(f'[{string.punctuation}]', '')\n",
    "print(df)"
   ]
  },
  {
   "cell_type": "code",
   "execution_count": 12,
   "metadata": {},
   "outputs": [
    {
     "name": "stdout",
     "output_type": "stream",
     "text": [
      "                                                    body  label\n",
      "0      save 70 life insurance why spend more than you...      1\n",
      "1      1 fight the risk cancer httpwwwadclickwspcfmo3...      1\n",
      "2      1 fight the risk cancer httpwwwadclickwspcfmo3...      1\n",
      "3          adult club   offers free membership     in...      1\n",
      "4      i thought might like these 1 slim down  guaran...      1\n",
      "...                                                  ...    ...\n",
      "16041  subject monday 22 nd oct louise  half hour fre...      0\n",
      "16042  subject missing bloomberg deals stephanie  bel...      0\n",
      "16043  subject eops salary survey questionnaire need ...      0\n",
      "16044  subject q 3 comparison hi louise  comparison f...      0\n",
      "16045  subject confidential folder safely pass inform...      0\n",
      "\n",
      "[16045 rows x 2 columns]\n"
     ]
    }
   ],
   "source": [
    "# Turn every word to lowercase\n",
    "df['body'] = df['body'].str.lower()\n",
    "print(df)"
   ]
  },
  {
   "cell_type": "code",
   "execution_count": 13,
   "metadata": {},
   "outputs": [
    {
     "name": "stdout",
     "output_type": "stream",
     "text": [
      "                                                    body  label\n",
      "0      save 70 life insurance why spend more than you...      1\n",
      "1      1 fight the risk cancer httpwwwadclickwspcfmo3...      1\n",
      "2      1 fight the risk cancer httpwwwadclickwspcfmo3...      1\n",
      "3      adult club offers free membership instant acce...      1\n",
      "4      i thought might like these 1 slim down guarant...      1\n",
      "...                                                  ...    ...\n",
      "16041  subject monday 22 nd oct louise half hour free...      0\n",
      "16042  subject missing bloomberg deals stephanie beli...      0\n",
      "16043  subject eops salary survey questionnaire need ...      0\n",
      "16044  subject q 3 comparison hi louise comparison fi...      0\n",
      "16045  subject confidential folder safely pass inform...      0\n",
      "\n",
      "[16045 rows x 2 columns]\n"
     ]
    }
   ],
   "source": [
    "# Expand contractions\n",
    "import contractions\n",
    "df['body'] = df['body'].apply(lambda x: ' '.join([contractions.fix(word) for word in x.split()]))\n",
    "print(df)"
   ]
  },
  {
   "cell_type": "markdown",
   "metadata": {},
   "source": [
    "### Representacion de texto"
   ]
  },
  {
   "cell_type": "code",
   "execution_count": 15,
   "metadata": {},
   "outputs": [
    {
     "data": {
      "text/html": [
       "<div>\n",
       "<style scoped>\n",
       "    .dataframe tbody tr th:only-of-type {\n",
       "        vertical-align: middle;\n",
       "    }\n",
       "\n",
       "    .dataframe tbody tr th {\n",
       "        vertical-align: top;\n",
       "    }\n",
       "\n",
       "    .dataframe thead th {\n",
       "        text-align: right;\n",
       "    }\n",
       "</style>\n",
       "<table border=\"1\" class=\"dataframe\">\n",
       "  <thead>\n",
       "    <tr style=\"text-align: right;\">\n",
       "      <th></th>\n",
       "      <th>10</th>\n",
       "      <th>2000</th>\n",
       "      <th>2002</th>\n",
       "      <th>also</th>\n",
       "      <th>best</th>\n",
       "      <th>business</th>\n",
       "      <th>cc</th>\n",
       "      <th>click</th>\n",
       "      <th>com</th>\n",
       "      <th>company</th>\n",
       "      <th>...</th>\n",
       "      <th>to</th>\n",
       "      <th>today</th>\n",
       "      <th>us</th>\n",
       "      <th>use</th>\n",
       "      <th>want</th>\n",
       "      <th>way</th>\n",
       "      <th>well</th>\n",
       "      <th>work</th>\n",
       "      <th>would</th>\n",
       "      <th>you</th>\n",
       "    </tr>\n",
       "  </thead>\n",
       "  <tbody>\n",
       "    <tr>\n",
       "      <th>0</th>\n",
       "      <td>0</td>\n",
       "      <td>0</td>\n",
       "      <td>0</td>\n",
       "      <td>0</td>\n",
       "      <td>3</td>\n",
       "      <td>0</td>\n",
       "      <td>0</td>\n",
       "      <td>2</td>\n",
       "      <td>0</td>\n",
       "      <td>0</td>\n",
       "      <td>...</td>\n",
       "      <td>0</td>\n",
       "      <td>0</td>\n",
       "      <td>1</td>\n",
       "      <td>0</td>\n",
       "      <td>0</td>\n",
       "      <td>0</td>\n",
       "      <td>0</td>\n",
       "      <td>0</td>\n",
       "      <td>0</td>\n",
       "      <td>2</td>\n",
       "    </tr>\n",
       "    <tr>\n",
       "      <th>1</th>\n",
       "      <td>0</td>\n",
       "      <td>0</td>\n",
       "      <td>0</td>\n",
       "      <td>0</td>\n",
       "      <td>0</td>\n",
       "      <td>0</td>\n",
       "      <td>0</td>\n",
       "      <td>0</td>\n",
       "      <td>0</td>\n",
       "      <td>0</td>\n",
       "      <td>...</td>\n",
       "      <td>0</td>\n",
       "      <td>0</td>\n",
       "      <td>0</td>\n",
       "      <td>1</td>\n",
       "      <td>0</td>\n",
       "      <td>0</td>\n",
       "      <td>0</td>\n",
       "      <td>0</td>\n",
       "      <td>0</td>\n",
       "      <td>1</td>\n",
       "    </tr>\n",
       "    <tr>\n",
       "      <th>2</th>\n",
       "      <td>0</td>\n",
       "      <td>0</td>\n",
       "      <td>0</td>\n",
       "      <td>0</td>\n",
       "      <td>0</td>\n",
       "      <td>0</td>\n",
       "      <td>0</td>\n",
       "      <td>0</td>\n",
       "      <td>0</td>\n",
       "      <td>0</td>\n",
       "      <td>...</td>\n",
       "      <td>0</td>\n",
       "      <td>0</td>\n",
       "      <td>0</td>\n",
       "      <td>1</td>\n",
       "      <td>0</td>\n",
       "      <td>0</td>\n",
       "      <td>0</td>\n",
       "      <td>0</td>\n",
       "      <td>0</td>\n",
       "      <td>1</td>\n",
       "    </tr>\n",
       "    <tr>\n",
       "      <th>3</th>\n",
       "      <td>0</td>\n",
       "      <td>0</td>\n",
       "      <td>0</td>\n",
       "      <td>0</td>\n",
       "      <td>3</td>\n",
       "      <td>0</td>\n",
       "      <td>0</td>\n",
       "      <td>1</td>\n",
       "      <td>0</td>\n",
       "      <td>0</td>\n",
       "      <td>...</td>\n",
       "      <td>1</td>\n",
       "      <td>0</td>\n",
       "      <td>1</td>\n",
       "      <td>0</td>\n",
       "      <td>0</td>\n",
       "      <td>0</td>\n",
       "      <td>0</td>\n",
       "      <td>0</td>\n",
       "      <td>0</td>\n",
       "      <td>0</td>\n",
       "    </tr>\n",
       "    <tr>\n",
       "      <th>4</th>\n",
       "      <td>0</td>\n",
       "      <td>0</td>\n",
       "      <td>0</td>\n",
       "      <td>0</td>\n",
       "      <td>0</td>\n",
       "      <td>0</td>\n",
       "      <td>0</td>\n",
       "      <td>0</td>\n",
       "      <td>0</td>\n",
       "      <td>0</td>\n",
       "      <td>...</td>\n",
       "      <td>0</td>\n",
       "      <td>0</td>\n",
       "      <td>0</td>\n",
       "      <td>1</td>\n",
       "      <td>0</td>\n",
       "      <td>0</td>\n",
       "      <td>0</td>\n",
       "      <td>0</td>\n",
       "      <td>0</td>\n",
       "      <td>1</td>\n",
       "    </tr>\n",
       "  </tbody>\n",
       "</table>\n",
       "<p>5 rows × 59 columns</p>\n",
       "</div>"
      ],
      "text/plain": [
       "   10  2000  2002  also  best  business  cc  click  com  company  ...  to  \\\n",
       "0   0     0     0     0     3         0   0      2    0        0  ...   0   \n",
       "1   0     0     0     0     0         0   0      0    0        0  ...   0   \n",
       "2   0     0     0     0     0         0   0      0    0        0  ...   0   \n",
       "3   0     0     0     0     3         0   0      1    0        0  ...   1   \n",
       "4   0     0     0     0     0         0   0      0    0        0  ...   0   \n",
       "\n",
       "   today  us  use  want  way  well  work  would  you  \n",
       "0      0   1    0     0    0     0     0      0    2  \n",
       "1      0   0    1     0    0     0     0      0    1  \n",
       "2      0   0    1     0    0     0     0      0    1  \n",
       "3      0   1    0     0    0     0     0      0    0  \n",
       "4      0   0    1     0    0     0     0      0    1  \n",
       "\n",
       "[5 rows x 59 columns]"
      ]
     },
     "execution_count": 15,
     "metadata": {},
     "output_type": "execute_result"
    }
   ],
   "source": [
    "#Make a Bag of N-Grams \n",
    "\n",
    "vectorizer = CountVectorizer(ngram_range=(1, 2), min_df=0.1 , max_df=0.8)\n",
    "matrix_vect = vectorizer.fit_transform(df['body']).toarray()\n",
    "\n",
    "#Create a dataframe with the matrix\n",
    "df_bog = pd.DataFrame(matrix_vect, columns=vectorizer.get_feature_names_out())\n",
    "df_bog.head()\n",
    "\n"
   ]
  },
  {
   "cell_type": "code",
   "execution_count": 16,
   "metadata": {},
   "outputs": [
    {
     "data": {
      "text/html": [
       "<div>\n",
       "<style scoped>\n",
       "    .dataframe tbody tr th:only-of-type {\n",
       "        vertical-align: middle;\n",
       "    }\n",
       "\n",
       "    .dataframe tbody tr th {\n",
       "        vertical-align: top;\n",
       "    }\n",
       "\n",
       "    .dataframe thead th {\n",
       "        text-align: right;\n",
       "    }\n",
       "</style>\n",
       "<table border=\"1\" class=\"dataframe\">\n",
       "  <thead>\n",
       "    <tr style=\"text-align: right;\">\n",
       "      <th></th>\n",
       "      <th>10</th>\n",
       "      <th>2000</th>\n",
       "      <th>2002</th>\n",
       "      <th>also</th>\n",
       "      <th>best</th>\n",
       "      <th>business</th>\n",
       "      <th>cc</th>\n",
       "      <th>click</th>\n",
       "      <th>com</th>\n",
       "      <th>company</th>\n",
       "      <th>...</th>\n",
       "      <th>to</th>\n",
       "      <th>today</th>\n",
       "      <th>us</th>\n",
       "      <th>use</th>\n",
       "      <th>want</th>\n",
       "      <th>way</th>\n",
       "      <th>well</th>\n",
       "      <th>work</th>\n",
       "      <th>would</th>\n",
       "      <th>you</th>\n",
       "    </tr>\n",
       "  </thead>\n",
       "  <tbody>\n",
       "    <tr>\n",
       "      <th>0</th>\n",
       "      <td>0.0</td>\n",
       "      <td>0.0</td>\n",
       "      <td>0.0</td>\n",
       "      <td>0.0</td>\n",
       "      <td>0.458674</td>\n",
       "      <td>0.0</td>\n",
       "      <td>0.0</td>\n",
       "      <td>0.310028</td>\n",
       "      <td>0.0</td>\n",
       "      <td>0.0</td>\n",
       "      <td>...</td>\n",
       "      <td>0.000000</td>\n",
       "      <td>0.0</td>\n",
       "      <td>0.132523</td>\n",
       "      <td>0.000000</td>\n",
       "      <td>0.0</td>\n",
       "      <td>0.0</td>\n",
       "      <td>0.0</td>\n",
       "      <td>0.0</td>\n",
       "      <td>0.0</td>\n",
       "      <td>0.289067</td>\n",
       "    </tr>\n",
       "    <tr>\n",
       "      <th>1</th>\n",
       "      <td>0.0</td>\n",
       "      <td>0.0</td>\n",
       "      <td>0.0</td>\n",
       "      <td>0.0</td>\n",
       "      <td>0.000000</td>\n",
       "      <td>0.0</td>\n",
       "      <td>0.0</td>\n",
       "      <td>0.000000</td>\n",
       "      <td>0.0</td>\n",
       "      <td>0.0</td>\n",
       "      <td>...</td>\n",
       "      <td>0.000000</td>\n",
       "      <td>0.0</td>\n",
       "      <td>0.000000</td>\n",
       "      <td>0.293959</td>\n",
       "      <td>0.0</td>\n",
       "      <td>0.0</td>\n",
       "      <td>0.0</td>\n",
       "      <td>0.0</td>\n",
       "      <td>0.0</td>\n",
       "      <td>0.293278</td>\n",
       "    </tr>\n",
       "    <tr>\n",
       "      <th>2</th>\n",
       "      <td>0.0</td>\n",
       "      <td>0.0</td>\n",
       "      <td>0.0</td>\n",
       "      <td>0.0</td>\n",
       "      <td>0.000000</td>\n",
       "      <td>0.0</td>\n",
       "      <td>0.0</td>\n",
       "      <td>0.000000</td>\n",
       "      <td>0.0</td>\n",
       "      <td>0.0</td>\n",
       "      <td>...</td>\n",
       "      <td>0.000000</td>\n",
       "      <td>0.0</td>\n",
       "      <td>0.000000</td>\n",
       "      <td>0.368609</td>\n",
       "      <td>0.0</td>\n",
       "      <td>0.0</td>\n",
       "      <td>0.0</td>\n",
       "      <td>0.0</td>\n",
       "      <td>0.0</td>\n",
       "      <td>0.367755</td>\n",
       "    </tr>\n",
       "    <tr>\n",
       "      <th>3</th>\n",
       "      <td>0.0</td>\n",
       "      <td>0.0</td>\n",
       "      <td>0.0</td>\n",
       "      <td>0.0</td>\n",
       "      <td>0.272546</td>\n",
       "      <td>0.0</td>\n",
       "      <td>0.0</td>\n",
       "      <td>0.092110</td>\n",
       "      <td>0.0</td>\n",
       "      <td>0.0</td>\n",
       "      <td>...</td>\n",
       "      <td>0.097004</td>\n",
       "      <td>0.0</td>\n",
       "      <td>0.078746</td>\n",
       "      <td>0.000000</td>\n",
       "      <td>0.0</td>\n",
       "      <td>0.0</td>\n",
       "      <td>0.0</td>\n",
       "      <td>0.0</td>\n",
       "      <td>0.0</td>\n",
       "      <td>0.000000</td>\n",
       "    </tr>\n",
       "    <tr>\n",
       "      <th>4</th>\n",
       "      <td>0.0</td>\n",
       "      <td>0.0</td>\n",
       "      <td>0.0</td>\n",
       "      <td>0.0</td>\n",
       "      <td>0.000000</td>\n",
       "      <td>0.0</td>\n",
       "      <td>0.0</td>\n",
       "      <td>0.000000</td>\n",
       "      <td>0.0</td>\n",
       "      <td>0.0</td>\n",
       "      <td>...</td>\n",
       "      <td>0.000000</td>\n",
       "      <td>0.0</td>\n",
       "      <td>0.000000</td>\n",
       "      <td>0.299606</td>\n",
       "      <td>0.0</td>\n",
       "      <td>0.0</td>\n",
       "      <td>0.0</td>\n",
       "      <td>0.0</td>\n",
       "      <td>0.0</td>\n",
       "      <td>0.298912</td>\n",
       "    </tr>\n",
       "  </tbody>\n",
       "</table>\n",
       "<p>5 rows × 59 columns</p>\n",
       "</div>"
      ],
      "text/plain": [
       "    10  2000  2002  also      best  business   cc     click  com  company  \\\n",
       "0  0.0   0.0   0.0   0.0  0.458674       0.0  0.0  0.310028  0.0      0.0   \n",
       "1  0.0   0.0   0.0   0.0  0.000000       0.0  0.0  0.000000  0.0      0.0   \n",
       "2  0.0   0.0   0.0   0.0  0.000000       0.0  0.0  0.000000  0.0      0.0   \n",
       "3  0.0   0.0   0.0   0.0  0.272546       0.0  0.0  0.092110  0.0      0.0   \n",
       "4  0.0   0.0   0.0   0.0  0.000000       0.0  0.0  0.000000  0.0      0.0   \n",
       "\n",
       "   ...        to  today        us       use  want  way  well  work  would  \\\n",
       "0  ...  0.000000    0.0  0.132523  0.000000   0.0  0.0   0.0   0.0    0.0   \n",
       "1  ...  0.000000    0.0  0.000000  0.293959   0.0  0.0   0.0   0.0    0.0   \n",
       "2  ...  0.000000    0.0  0.000000  0.368609   0.0  0.0   0.0   0.0    0.0   \n",
       "3  ...  0.097004    0.0  0.078746  0.000000   0.0  0.0   0.0   0.0    0.0   \n",
       "4  ...  0.000000    0.0  0.000000  0.299606   0.0  0.0   0.0   0.0    0.0   \n",
       "\n",
       "        you  \n",
       "0  0.289067  \n",
       "1  0.293278  \n",
       "2  0.367755  \n",
       "3  0.000000  \n",
       "4  0.298912  \n",
       "\n",
       "[5 rows x 59 columns]"
      ]
     },
     "execution_count": 16,
     "metadata": {},
     "output_type": "execute_result"
    }
   ],
   "source": [
    "#Make a TF-IDF\n",
    "\n",
    "vectorizer = TfidfVectorizer(min_df=0.1 , max_df=0.8, use_idf=True)\n",
    "matrix_vect = vectorizer.fit_transform(df['body']).toarray()\n",
    "\n",
    "#Create a dataframe with the matrix\n",
    "df_tfidf = pd.DataFrame(matrix_vect, columns=vectorizer.get_feature_names_out())\n",
    "df_tfidf.head()\n"
   ]
  },
  {
   "cell_type": "markdown",
   "metadata": {},
   "source": [
    "# Parte 2 - Implementacion del modelo"
   ]
  },
  {
   "cell_type": "markdown",
   "metadata": {},
   "source": [
    "### Separacion de datos"
   ]
  },
  {
   "cell_type": "markdown",
   "metadata": {},
   "source": [
    "##### Modelo Bag of N words"
   ]
  },
  {
   "cell_type": "code",
   "execution_count": 17,
   "metadata": {},
   "outputs": [],
   "source": [
    "#Split the data into train and test\n",
    "\n",
    "target = df['label']\n",
    "\n",
    "X_train, X_test, y_train, y_test = train_test_split(df_bog, target, test_size=0.3, random_state=42)"
   ]
  },
  {
   "cell_type": "code",
   "execution_count": 18,
   "metadata": {},
   "outputs": [
    {
     "name": "stdout",
     "output_type": "stream",
     "text": [
      "Accuracy:  0.7850020772746157\n",
      "Confusion Matrix:  [[2142  585]\n",
      " [ 450 1637]]\n",
      "Classification Report:                precision    recall  f1-score   support\n",
      "\n",
      "           0       0.83      0.79      0.81      2727\n",
      "           1       0.74      0.78      0.76      2087\n",
      "\n",
      "    accuracy                           0.79      4814\n",
      "   macro avg       0.78      0.78      0.78      4814\n",
      "weighted avg       0.79      0.79      0.79      4814\n",
      "\n"
     ]
    }
   ],
   "source": [
    "#Multinomial Naive Bayes model\n",
    "model_naive_bog = MultinomialNB()\n",
    "model_naive_bog.fit(X_train, y_train)\n",
    "\n",
    "y_pred = model_naive_bog.predict(X_test)\n",
    "\n",
    "#Evaluate the model\n",
    "print(\"Accuracy: \", accuracy_score(y_test, y_pred))\n",
    "print(\"Confusion Matrix: \", confusion_matrix(y_test, y_pred))\n",
    "print(\"Classification Report: \", classification_report(y_test, y_pred))\n"
   ]
  },
  {
   "cell_type": "markdown",
   "metadata": {},
   "source": [
    "#### Modelo TF-IDF"
   ]
  },
  {
   "cell_type": "code",
   "execution_count": 19,
   "metadata": {},
   "outputs": [],
   "source": [
    "#Split the data into train and test\n",
    "target = df['label']\n",
    "\n",
    "X_train_TF, X_test_TF, y_train_TF, y_test_TF = train_test_split(df_tfidf, target, test_size=0.3, random_state=42)"
   ]
  },
  {
   "cell_type": "code",
   "execution_count": 20,
   "metadata": {},
   "outputs": [
    {
     "name": "stdout",
     "output_type": "stream",
     "text": [
      "Accuracy:  0.8564603240548401\n",
      "Confusion Matrix:  [[2457  270]\n",
      " [ 421 1666]]\n",
      "Classification Report:                precision    recall  f1-score   support\n",
      "\n",
      "           0       0.85      0.90      0.88      2727\n",
      "           1       0.86      0.80      0.83      2087\n",
      "\n",
      "    accuracy                           0.86      4814\n",
      "   macro avg       0.86      0.85      0.85      4814\n",
      "weighted avg       0.86      0.86      0.86      4814\n",
      "\n"
     ]
    }
   ],
   "source": [
    "#Multinomial Naive Bayes model\n",
    "\n",
    "model_naive_tfidf = MultinomialNB()\n",
    "model_naive_tfidf.fit(X_train_TF, y_train_TF)\n",
    "\n",
    "y_pred_TF = model_naive_tfidf.predict(X_test_TF)\n",
    "\n",
    "#Evaluate the model\n",
    "print(\"Accuracy: \", accuracy_score(y_test_TF, y_pred_TF))\n",
    "print(\"Confusion Matrix: \", confusion_matrix(y_test_TF, y_pred_TF))\n",
    "print(\"Classification Report: \", classification_report(y_test_TF, y_pred_TF))\n"
   ]
  },
  {
   "cell_type": "code",
   "execution_count": null,
   "metadata": {},
   "outputs": [],
   "source": []
  },
  {
   "cell_type": "code",
   "execution_count": null,
   "metadata": {},
   "outputs": [],
   "source": []
  },
  {
   "cell_type": "code",
   "execution_count": null,
   "metadata": {},
   "outputs": [],
   "source": []
  }
 ],
 "metadata": {
  "kernelspec": {
   "display_name": "Python 3 (ipykernel)",
   "language": "python",
   "name": "python3"
  },
  "language_info": {
   "codemirror_mode": {
    "name": "ipython",
    "version": 3
   },
   "file_extension": ".py",
   "mimetype": "text/x-python",
   "name": "python",
   "nbconvert_exporter": "python",
   "pygments_lexer": "ipython3",
   "version": "3.8.0"
  },
  "vscode": {
   "interpreter": {
    "hash": "c6a8c22c86cde34061ecc62b53fbd32a99d168300b89e9907f412dfe3f957042"
   }
  }
 },
 "nbformat": 4,
 "nbformat_minor": 2
}
